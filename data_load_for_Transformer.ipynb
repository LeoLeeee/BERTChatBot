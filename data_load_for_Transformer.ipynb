{
 "metadata": {
  "language_info": {
   "codemirror_mode": {
    "name": "ipython",
    "version": 3
   },
   "file_extension": ".py",
   "mimetype": "text/x-python",
   "name": "python",
   "nbconvert_exporter": "python",
   "pygments_lexer": "ipython3",
   "version": "3.8.5-final"
  },
  "orig_nbformat": 2,
  "kernelspec": {
   "name": "python3",
   "display_name": "Python 3.8.5 64-bit ('pytorch_gpu': conda)",
   "metadata": {
    "interpreter": {
     "hash": "87ea0c2bfc8d33363b62de134cfa12cc037bed7b7625ab24887ee8fe91891aef"
    }
   }
  }
 },
 "nbformat": 4,
 "nbformat_minor": 2,
 "cells": [
  {
   "cell_type": "code",
   "execution_count": 1,
   "metadata": {},
   "outputs": [],
   "source": [
    "import os\n",
    "import random\n",
    "import data_tokenize\n",
    "import torch\n",
    "import Utility"
   ]
  },
  {
   "cell_type": "code",
   "execution_count": 2,
   "metadata": {},
   "outputs": [
    {
     "output_type": "stream",
     "name": "stdout",
     "text": [
      "Using 'char' as tokens\n"
     ]
    },
    {
     "output_type": "execute_result",
     "data": {
      "text/plain": [
       "[[['只', '知', '道', '坡', '姐'],\n",
       "  ['因',\n",
       "   '为',\n",
       "   '我',\n",
       "   '讨',\n",
       "   '厌',\n",
       "   '自',\n",
       "   '己',\n",
       "   '那',\n",
       "   '种',\n",
       "   '跟',\n",
       "   '别',\n",
       "   '人',\n",
       "   '在',\n",
       "   '一',\n",
       "   '起',\n",
       "   '心',\n",
       "   '里',\n",
       "   '却',\n",
       "   '闪',\n",
       "   '现',\n",
       "   '出',\n",
       "   '另',\n",
       "   '一',\n",
       "   '个',\n",
       "   '人',\n",
       "   '的',\n",
       "   '感',\n",
       "   '觉',\n",
       "   '我',\n",
       "   '不',\n",
       "   '喜',\n",
       "   '欢',\n",
       "   '无',\n",
       "   '法',\n",
       "   '全',\n",
       "   '部',\n",
       "   '投',\n",
       "   '入',\n",
       "   '的',\n",
       "   '我']],\n",
       " [['那', '你', '骂', '我', '傻', '逼'], ['拜', '拜']],\n",
       " [['现', '在', '变', '冷', '了'], ['哎', '呀', '~', '我', '喜', '欢']],\n",
       " [['爱', '我', '别', '走'], ['如', '果', '你', '说', '你', '不', '爱', '我']],\n",
       " [['我', '饿', '你', '给', '我', '啃', '个', '鸡', '腿', '嘛'],\n",
       "  ['主', '人', '我', '错', '了', '呜', '呜', '呜']]]"
      ]
     },
     "metadata": {},
     "execution_count": 2
    }
   ],
   "source": [
    "#@save\n",
    "def _read_xhj(token='char'):\n",
    "    convs = data_tokenize.get_convs()\n",
    "    paragraphs = data_tokenize.tokenize(convs, token)\n",
    "    random.shuffle(paragraphs)\n",
    "    return paragraphs\n",
    "xhj_data = _read_xhj()\n",
    "xhj_data[:5]"
   ]
  },
  {
   "cell_type": "code",
   "execution_count": 3,
   "metadata": {},
   "outputs": [],
   "source": [
    "vocab = data_tokenize.Vocab(xhj_data, min_freq=2, reserved_tokens=['<pad>', '<bos>', '<eos>'])"
   ]
  },
  {
   "cell_type": "code",
   "execution_count": 4,
   "metadata": {},
   "outputs": [
    {
     "output_type": "execute_result",
     "data": {
      "text/plain": [
       "5408"
      ]
     },
     "metadata": {},
     "execution_count": 4
    }
   ],
   "source": [
    "len(vocab)"
   ]
  },
  {
   "cell_type": "code",
   "execution_count": 5,
   "metadata": {},
   "outputs": [
    {
     "output_type": "execute_result",
     "data": {
      "text/plain": [
       "[99, 51, 48, 2301, 175, 1, 1, 1, 1, 1]"
      ]
     },
     "metadata": {},
     "execution_count": 5
    }
   ],
   "source": [
    "#@save\n",
    "def truncate_pad(line, num_steps, padding_token):\n",
    "    if len(line) > num_steps:\n",
    "        return line[:num_steps]\n",
    "    return line + [padding_token] * (num_steps - len(line))\n",
    "\n",
    "truncate_pad(vocab[xhj_data[0][0]], 10, vocab['<pad>'])"
   ]
  },
  {
   "cell_type": "code",
   "execution_count": 6,
   "metadata": {},
   "outputs": [],
   "source": [
    "#@save\n",
    "def build_array_xhj_for_Transformer(lines, vocab, num_steps):\n",
    "    \"\"\"Transform text sequences of machine translation into minibatches.\"\"\"\n",
    "    lines = [vocab[l] for l in lines]\n",
    "    ask_lines = [l[0] + [vocab['<eos>']] for l in lines]\n",
    "    answer_lines = [l[1] + [vocab['<eos>']] for l in lines]\n",
    "    ask_array = torch.tensor(\n",
    "        [truncate_pad(l, num_steps, vocab['<pad>']) for l in ask_lines])\n",
    "    ask_valid_len = (ask_array != vocab['<pad>']).type(torch.int32).sum(1)\n",
    "    answer_array = torch.tensor(\n",
    "        [truncate_pad(l, num_steps, vocab['<pad>']) for l in answer_lines])\n",
    "    answer_valid_len = (answer_array != vocab['<pad>']).type(torch.int32).sum(1)\n",
    "    return ask_array, ask_valid_len, answer_array, answer_valid_len"
   ]
  },
  {
   "cell_type": "code",
   "execution_count": 7,
   "metadata": {},
   "outputs": [],
   "source": [
    "#@save\n",
    "def load_data_xhj_for_Transformer(batch_size, num_steps, num_examples=600):\n",
    "    \"\"\"Return the iterator and the vocabularies of the translation dataset.\"\"\"\n",
    "    xhj_data = _read_xhj()\n",
    "    vocab = data_tokenize.Vocab(xhj_data, min_freq=2,\n",
    "                          reserved_tokens=['<pad>', '<bos>', '<eos>'])\n",
    "    ask_array, ask_valid_len, answer_array, answer_valid_len = build_array_xhj_for_Transformer(xhj_data,vocab, num_steps)\n",
    "    data_arrays = (ask_array, ask_valid_len, answer_array, answer_valid_len)\n",
    "    data_iter = Utility.load_array(data_arrays, batch_size)\n",
    "    return data_iter, vocab"
   ]
  },
  {
   "cell_type": "code",
   "execution_count": 8,
   "metadata": {},
   "outputs": [
    {
     "output_type": "stream",
     "name": "stdout",
     "text": [
      "Using 'char' as tokens\n",
      "X: tensor([[ 78, 330, 588,   3,   1,   1,   1,   1],\n",
      "        [  4,  56,  26,  79,   3,   1,   1,   1]], dtype=torch.int32)\n",
      "valid lengths for X: tensor([4, 5])\n",
      "Y: tensor([[ 18,  35,  10,  70, 189,  19,  67,   5],\n",
      "        [111, 111,  25, 270, 382,   7, 189, 369]], dtype=torch.int32)\n",
      "valid lengths for Y: tensor([8, 8])\n"
     ]
    }
   ],
   "source": [
    "train_iter, vocab = load_data_xhj_for_Transformer(batch_size=2, num_steps=8)\n",
    "for X, X_valid_len, Y, Y_valid_len in train_iter:\n",
    "    print('X:', X.type(torch.int32))\n",
    "    print('valid lengths for X:', X_valid_len)\n",
    "    print('Y:', Y.type(torch.int32))\n",
    "    print('valid lengths for Y:', Y_valid_len)\n",
    "    break"
   ]
  },
  {
   "cell_type": "code",
   "execution_count": null,
   "metadata": {},
   "outputs": [],
   "source": []
  }
 ]
}